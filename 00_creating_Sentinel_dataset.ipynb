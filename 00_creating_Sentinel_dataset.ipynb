{
 "cells": [
  {
   "cell_type": "markdown",
   "metadata": {
    "id": "RE0UCb9Z04qe"
   },
   "source": [
    "# Creating Sentinel Dataset"
   ]
  },
  {
   "cell_type": "code",
   "execution_count": null,
   "metadata": {
    "colab": {
     "base_uri": "https://localhost:8080/"
    },
    "executionInfo": {
     "elapsed": 3018,
     "status": "ok",
     "timestamp": 1747754320826,
     "user": {
      "displayName": "Viktoriia Ovsianik",
      "userId": "17068106304018765594"
     },
     "user_tz": -120
    },
    "id": "IxtUcy5J0p7b",
    "outputId": "bd9fe628-3570-4ff9-a9ac-ee89243abedc"
   },
   "outputs": [],
   "source": [
    "%pip install sentinelhub"
   ]
  },
  {
   "cell_type": "markdown",
   "metadata": {
    "id": "gHShm1Jk1P7p"
   },
   "source": [
    "### Authentication Sentinel"
   ]
  },
  {
   "cell_type": "code",
   "execution_count": 3,
   "metadata": {
    "id": "j4xFkwqm03VN"
   },
   "outputs": [],
   "source": [
    "from sentinelhub import SHConfig\n",
    "\n",
    "import os\n",
    "CLIENT_ID_SENTINEL = os.getenv(\"CLIENT_ID_SENTINEL\")\n",
    "CLIENT_SECRET_SENTINEL = os.getenv(\"CLIENT_SECRET_SENTINEL\")\n",
    "INSTANCE_ID_SENTINEL = os.getenv(\"INSTANCE_ID_SENTINEL\")\n",
    "\n",
    "config = SHConfig(\n",
    "    sh_client_id=CLIENT_ID_SENTINEL,\n",
    "    sh_client_secret= CLIENT_SECRET_SENTINEL,\n",
    ")\n",
    "\n",
    "config.instance_id = INSTANCE_ID_SENTINEL\n",
    "\n",
    "if not config.sh_client_id or not config.sh_client_secret:\n",
    "    print(\"Warning! To use Process API, please provide the credentials (OAuth client ID and client secret).\")"
   ]
  },
  {
   "cell_type": "markdown",
   "metadata": {
    "id": "8KERy_H-1WJJ"
   },
   "source": [
    "### Imports"
   ]
  },
  {
   "cell_type": "code",
   "execution_count": 5,
   "metadata": {
    "colab": {
     "base_uri": "https://localhost:8080/"
    },
    "executionInfo": {
     "elapsed": 2014,
     "status": "ok",
     "timestamp": 1747754330619,
     "user": {
      "displayName": "Viktoriia Ovsianik",
      "userId": "17068106304018765594"
     },
     "user_tz": -120
    },
    "id": "z50r5iZu1OiE",
    "outputId": "b92e1176-1e0f-4e1a-ebb9-3d4a230fd9fd"
   },
   "outputs": [],
   "source": [
    "import datetime\n",
    "\n",
    "import matplotlib.pyplot as plt\n",
    "import numpy as np\n",
    "\n",
    "from sentinelhub import (\n",
    "    CRS,\n",
    "    BBox,\n",
    "    DataCollection,\n",
    "    DownloadRequest,\n",
    "    MimeType,\n",
    "    MosaickingOrder,\n",
    "    SentinelHubDownloadClient,\n",
    "    SentinelHubRequest,\n",
    "    bbox_to_dimensions,\n",
    ")\n",
    "import json\n",
    "from shapely.geometry import shape\n",
    "from shapely.geometry import Polygon, Point, box\n",
    "import random\n",
    "\n",
    "\n",
    "from sentinelhub import WebFeatureService, BBox, CRS, DataCollection, SHConfig\n",
    "from datetime import datetime\n",
    "from tqdm import tqdm\n",
    "import sys\n"
   ]
  },
  {
   "cell_type": "code",
   "execution_count": 3,
   "metadata": {
    "id": "pAnGHRWg1K6b"
   },
   "outputs": [],
   "source": [
    "%reload_ext autoreload\n",
    "%autoreload 2\n",
    "%matplotlib inline"
   ]
  },
  {
   "cell_type": "code",
   "execution_count": null,
   "metadata": {},
   "outputs": [],
   "source": [
    "if not os.path.exists(\"/content/drive\"):\n",
    "    drive.mount(\"/content/drive\")"
   ]
  },
  {
   "cell_type": "code",
   "execution_count": null,
   "metadata": {},
   "outputs": [],
   "source": [
    "project_root = os.getenv('PROJECT_ROOT_PATH')\n",
    "data_save_path = os.getenv('DATA_PATH')\n",
    "geojson_file_general = os.getenv('GEOJSON_GENERAL')\n",
    "geojson_file_waterbodies = os.getenv('GEOJSON_WATERBODIES')\n",
    "geojson_file_boris24 = os.getenv('GEOJSON_BORIS24')\n",
    "geojson_file_germany21 = os.getenv('GEOJSON_GERMANY21')\n",
    "geojson_file_germany24 = os.getenv('GEOJSON_GERMANY24')\n",
    "\n",
    "# Add the project root path to the system path\n",
    "sys.path.append(project_root)\n",
    "\n",
    "#necessary imports\n",
    "from scripts.data_preparation.dataset_creation_sentinel import *"
   ]
  },
  {
   "cell_type": "markdown",
   "metadata": {
    "id": "5zdUuXKXYqUV"
   },
   "source": [
    "### Downloading Image"
   ]
  },
  {
   "cell_type": "code",
   "execution_count": 5,
   "metadata": {
    "id": "fTKe6KMhUvcR"
   },
   "outputs": [],
   "source": [
    "\n",
    "def get_sentinel_data(bbox, size, data_folder, time_interval=(\"2023-9-7\", \"2023-9-7\"), data_collection=DataCollection.SENTINEL2_L2A, config=config):\n",
    "    \"\"\"\n",
    "    Fetches and saves Sentinel-2 L2A data using the specified parameters.\n",
    "    \"\"\"\n",
    "\n",
    "    evalscript_all_bands = \"\"\"\n",
    "        //VERSION=3\n",
    "        function setup() {\n",
    "            return {\n",
    "                input: [{\n",
    "                    bands: [\"B02\",\"B03\",\"B04\",\"B08\", \"CLD\", \"dataMask\", \"SCL\"],\n",
    "                    units: [\"DN\", \"DN\", \"DN\", \"DN\", \"DN\", \"DN\", \"DN\"]\n",
    "                }],\n",
    "                output: [\n",
    "                    {\n",
    "                        id: \"optical_bands\",\n",
    "                        bands: 4,\n",
    "                        sampleType: \"INT16\"  // For reflectance bands (B02, B03, B04, B08)\n",
    "                    },\n",
    "                    {\n",
    "                        id: \"cld_band\",\n",
    "                        bands: 1,\n",
    "                        sampleType: \"UINT8\"    // Cloud probability (0-100%)\n",
    "                    },\n",
    "                    {\n",
    "                        id: \"data_mask\",\n",
    "                        bands: 1,\n",
    "                        sampleType: \"UINT8\"   // dataMask (0 or 1)\n",
    "                    },\n",
    "                    {\n",
    "                        id: \"scl_band\",\n",
    "                        bands: 1,\n",
    "                        sampleType: \"INT8\"    // Scene Classification Layer (SCL)\n",
    "                    }\n",
    "                ]\n",
    "            };\n",
    "        }\n",
    "\n",
    "        function evaluatePixel(sample) {\n",
    "            return {\n",
    "                optical_bands: [sample.B02, sample.B03, sample.B04, sample.B08],\n",
    "                cld_band: [sample.CLD],\n",
    "                data_mask: [sample.dataMask], // Will be 0 (valid) or 1 (no data)\n",
    "                scl_band: [sample.SCL]\n",
    "            };\n",
    "        }\n",
    "    \"\"\"\n",
    "\n",
    "    request_all_bands = SentinelHubRequest(\n",
    "        data_folder=data_folder,\n",
    "        evalscript=evalscript_all_bands,\n",
    "        input_data=[\n",
    "            SentinelHubRequest.input_data(\n",
    "                data_collection=data_collection,\n",
    "                time_interval=time_interval,\n",
    "            )\n",
    "        ],\n",
    "        responses=[\n",
    "            SentinelHubRequest.output_response(\"optical_bands\", MimeType.TIFF),\n",
    "            SentinelHubRequest.output_response(\"cld_band\", MimeType.TIFF),\n",
    "            SentinelHubRequest.output_response(\"data_mask\", MimeType.TIFF),\n",
    "            SentinelHubRequest.output_response(\"scl_band\", MimeType.TIFF)\n",
    "        ],\n",
    "        bbox=bbox,\n",
    "        size=size,\n",
    "        config=config,\n",
    "    )\n",
    "\n",
    "    return request_all_bands"
   ]
  },
  {
   "cell_type": "markdown",
   "metadata": {
    "id": "BXqQfMwUWqv1"
   },
   "source": [
    "## Main Sentinel"
   ]
  },
  {
   "cell_type": "code",
   "execution_count": null,
   "metadata": {
    "id": "UtDncv3cWoWo"
   },
   "outputs": [],
   "source": [
    "def run(quarter,num_images_per_q, data_collection = DataCollection.SENTINEL2_L2A):\n",
    "  \n",
    "  '''\n",
    "  time_dict = {'Q1':('2024-01-01','2024-03-31'),\n",
    "                  'Q2':('2024-04-01','2024-06-30'),\n",
    "                  'Q3':('2024-07-01','2024-09-30'),\n",
    "                  'Q4':('2024-10-01','2024-12-31')}\n",
    "\n",
    "  time_dict = {'Q1':('2023-01-01','2023-03-31'),\n",
    "                 'Q2':('2023-04-01','2023-06-30'),\n",
    "                 'Q3':('2023-07-01','2023-09-30'),\n",
    "                 'Q4':('2023-10-01','2023-12-31'),}\n",
    "\n",
    "  time_dict = {'germany24':('2024-05-30','2024-06-08'),\n",
    "              'germany21':('2021-07-14','2021-08-05'),\n",
    "              'boris24':('2024-09-09','2024-09-30'),\n",
    "              'saarland24':('2024-05-17','2024-06-17'),\n",
    "              }\n",
    "  '''\n",
    "  time_dict = {'Q1':('2022-01-01','2022-03-31'),\n",
    "                 'Q2':('2022-04-01','2022-06-30'),\n",
    "                 'Q3':('2022-07-01','2022-09-30'),\n",
    "                 'Q4':('2022-10-01','2022-12-31'),}\n",
    "\n",
    "  quarters_time_dict = {quarter:time_dict[quarter]}\n",
    "\n",
    "  data_path = os.path.join(data_save_path, 'SENTINEL2')\n",
    "  \n",
    "  #select necessary geojson file\n",
    "  geojson_file = geojson_file_general\n",
    "  \n",
    "  AOI_Polygons = read_get_aoi_polygons(geojson_file)\n",
    "\n",
    "  SIZE = (2048,2048)\n",
    "\n",
    "  for quarter in quarters_time_dict:\n",
    "    data_folder = f'data_{quarter}_2024_raw/'\n",
    "\n",
    "    for i in tqdm(range(num_images_per_q), desc=f\"Downloading images in {data_folder}\", unit=\"iter\"):\n",
    "      from_date = quarters_time_dict[quarter][0]\n",
    "      to_date = quarters_time_dict[quarter][1]\n",
    "      maxcc = 0.5\n",
    "\n",
    "      #rasndomly select one of the polygons\n",
    "      #random.seed(44)\n",
    "      AOI_Polygon = random.choice(AOI_Polygons)\n",
    "      print(AOI_Polygon)\n",
    "\n",
    "      random_bbox = generate_random_bbox(AOI_Polygon, bbox_size=0.1)\n",
    "      list_of_available_times =  tile_at_min_cc(random_bbox,from_date,to_date,data_collection=DataCollection.SENTINEL2_L2A,cloud_coverage_max=maxcc,config=config)\n",
    "\n",
    "      retry_count = 0\n",
    "      max_retries = 20\n",
    "\n",
    "      while len(list_of_available_times)==0 and retry_count < max_retries:\n",
    "        random_bbox = generate_random_bbox(AOI_Polygon, bbox_size=0.1)\n",
    "        list_of_available_times =  tile_at_min_cc(random_bbox,from_date,to_date,data_collection=DataCollection.SENTINEL2_L2A,cloud_coverage_max=maxcc,config=config)\n",
    "\n",
    "        retry_count +=1\n",
    "        print(\"searching....\", len(list_of_available_times))\n",
    "\n",
    "        if retry_count == max_retries:\n",
    "          print(\"Warning: No image found after max retries, skipping.\")\n",
    "          continue\n",
    "\n",
    "  \n",
    "      if not list_of_available_times:\n",
    "        print(\"No valid dates found for selected bbox. Skipping this iteration.\")\n",
    "        continue\n",
    "\n",
    "      date_of_image = list_of_available_times[ random.randint(0, len(list_of_available_times) - 1)]\n",
    "      image_to_save = get_sentinel_data(random_bbox, SIZE, data_path+data_folder, time_interval=(date_of_image, date_of_image), data_collection=data_collection, config=config)\n",
    "      image_to_save.save_data()\n"
   ]
  },
  {
   "cell_type": "code",
   "execution_count": null,
   "metadata": {
    "colab": {
     "base_uri": "https://localhost:8080/"
    },
    "executionInfo": {
     "elapsed": 964453,
     "status": "ok",
     "timestamp": 1740705216025,
     "user": {
      "displayName": "Stipe Babić",
      "userId": "12576241038684025580"
     },
     "user_tz": -60
    },
    "id": "mn6m0LXVbz57",
    "outputId": "408ea49c-b998-4f90-e761-36e143b345ed"
   },
   "outputs": [
    {
     "name": "stderr",
     "output_type": "stream",
     "text": [
      "Downloading images in Q1: 100%|██████████| 50/50 [16:04<00:00, 19.29s/iter]\n"
     ]
    }
   ],
   "source": [
    "# random.seed(202401)\n",
    "# run('Q1',50)"
   ]
  },
  {
   "cell_type": "code",
   "execution_count": null,
   "metadata": {
    "colab": {
     "base_uri": "https://localhost:8080/"
    },
    "executionInfo": {
     "elapsed": 825833,
     "status": "ok",
     "timestamp": 1740706063277,
     "user": {
      "displayName": "Stipe Babić",
      "userId": "12576241038684025580"
     },
     "user_tz": -60
    },
    "id": "-Gkw8pH7Ws64",
    "outputId": "432da01f-b503-484f-f033-f762f8ce9ff0"
   },
   "outputs": [
    {
     "name": "stderr",
     "output_type": "stream",
     "text": [
      "Downloading images in Q2: 100%|██████████| 50/50 [13:45<00:00, 16.52s/iter]\n"
     ]
    }
   ],
   "source": [
    "# random.seed(202402)\n",
    "# run('Q2',50)"
   ]
  },
  {
   "cell_type": "code",
   "execution_count": null,
   "metadata": {
    "colab": {
     "base_uri": "https://localhost:8080/"
    },
    "executionInfo": {
     "elapsed": 1039062,
     "status": "ok",
     "timestamp": 1740707126384,
     "user": {
      "displayName": "Stipe Babić",
      "userId": "12576241038684025580"
     },
     "user_tz": -60
    },
    "id": "Lpu3KSmICUTn",
    "outputId": "368e0437-9afa-46cb-9fea-8a529a814ddb"
   },
   "outputs": [
    {
     "name": "stderr",
     "output_type": "stream",
     "text": [
      "Downloading images in Q3: 100%|██████████| 50/50 [17:18<00:00, 20.78s/iter]\n"
     ]
    }
   ],
   "source": [
    "# random.seed(202403)\n",
    "# run('Q3',50)"
   ]
  },
  {
   "cell_type": "code",
   "execution_count": null,
   "metadata": {
    "colab": {
     "base_uri": "https://localhost:8080/"
    },
    "executionInfo": {
     "elapsed": 919774,
     "status": "ok",
     "timestamp": 1740708121221,
     "user": {
      "displayName": "Stipe Babić",
      "userId": "12576241038684025580"
     },
     "user_tz": -60
    },
    "id": "IBeAmeCdCUcV",
    "outputId": "f3c97872-d6b8-41ab-fac0-241002c5bc1c"
   },
   "outputs": [
    {
     "name": "stderr",
     "output_type": "stream",
     "text": [
      "Downloading images in Q4: 100%|██████████| 50/50 [15:19<00:00, 18.39s/iter]\n"
     ]
    }
   ],
   "source": [
    "# random.seed(202404)\n",
    "# run('Q4',50)"
   ]
  },
  {
   "cell_type": "code",
   "execution_count": null,
   "metadata": {
    "colab": {
     "base_uri": "https://localhost:8080/"
    },
    "executionInfo": {
     "elapsed": 792360,
     "status": "ok",
     "timestamp": 1741137196577,
     "user": {
      "displayName": "Stipe Babić",
      "userId": "12576241038684025580"
     },
     "user_tz": -60
    },
    "id": "Kk0QFyfGzkPH",
    "outputId": "c68758fe-a573-4d11-ba86-16a11108d934"
   },
   "outputs": [
    {
     "name": "stderr",
     "output_type": "stream",
     "text": [
      "Downloading images in Q1: 100%|██████████| 50/50 [13:12<00:00, 15.85s/iter]\n"
     ]
    }
   ],
   "source": [
    "# random.seed(202301)\n",
    "# run('Q1',50)"
   ]
  },
  {
   "cell_type": "code",
   "execution_count": null,
   "metadata": {
    "colab": {
     "base_uri": "https://localhost:8080/"
    },
    "executionInfo": {
     "elapsed": 800526,
     "status": "ok",
     "timestamp": 1741138036347,
     "user": {
      "displayName": "Stipe Babić",
      "userId": "12576241038684025580"
     },
     "user_tz": -60
    },
    "id": "i-yYDYm32sjA",
    "outputId": "6a6dc94e-a14e-42f0-e6b1-be3eb77d3b34"
   },
   "outputs": [
    {
     "name": "stderr",
     "output_type": "stream",
     "text": [
      "Downloading images in Q2: 100%|██████████| 50/50 [13:20<00:00, 16.01s/iter]\n"
     ]
    }
   ],
   "source": [
    "# random.seed(202302)\n",
    "# run('Q2',50)"
   ]
  },
  {
   "cell_type": "code",
   "execution_count": null,
   "metadata": {
    "colab": {
     "base_uri": "https://localhost:8080/"
    },
    "executionInfo": {
     "elapsed": 1075903,
     "status": "ok",
     "timestamp": 1741139163056,
     "user": {
      "displayName": "Stipe Babić",
      "userId": "12576241038684025580"
     },
     "user_tz": -60
    },
    "id": "gIyqj3xz6IZv",
    "outputId": "93a62ea3-25cc-4910-d07c-236568552763"
   },
   "outputs": [
    {
     "name": "stderr",
     "output_type": "stream",
     "text": [
      "Downloading images in Q3: 100%|██████████| 50/50 [17:55<00:00, 21.52s/iter]\n"
     ]
    }
   ],
   "source": [
    "# random.seed(202303)\n",
    "# run('Q3',50)"
   ]
  },
  {
   "cell_type": "code",
   "execution_count": null,
   "metadata": {
    "colab": {
     "base_uri": "https://localhost:8080/"
    },
    "executionInfo": {
     "elapsed": 817351,
     "status": "ok",
     "timestamp": 1741213559384,
     "user": {
      "displayName": "Stipe Babić",
      "userId": "12576241038684025580"
     },
     "user_tz": -60
    },
    "id": "Cq1dkrnh6Ir2",
    "outputId": "d4a834e8-ed07-4260-90b1-5cd0d891ee24"
   },
   "outputs": [
    {
     "name": "stderr",
     "output_type": "stream",
     "text": [
      "Downloading images in Q4: 100%|██████████| 50/50 [13:37<00:00, 16.35s/iter]\n"
     ]
    }
   ],
   "source": [
    "# random.seed(202304)\n",
    "# run('Q4',50)"
   ]
  }
 ],
 "metadata": {
  "colab": {
   "provenance": []
  },
  "kernelspec": {
   "display_name": "base",
   "language": "python",
   "name": "python3"
  },
  "language_info": {
   "codemirror_mode": {
    "name": "ipython",
    "version": 3
   },
   "file_extension": ".py",
   "mimetype": "text/x-python",
   "name": "python",
   "nbconvert_exporter": "python",
   "pygments_lexer": "ipython3",
   "version": "3.11.9"
  }
 },
 "nbformat": 4,
 "nbformat_minor": 0
}
